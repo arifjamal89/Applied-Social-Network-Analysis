{
  "cells": [
    {
      "cell_type": "markdown",
      "metadata": {
        "id": "Pl2TFW3nn-gv"
      },
      "source": [
        "# Week 1"
      ]
    },
    {
      "cell_type": "code",
      "execution_count": 1,
      "metadata": {
        "id": "WqVeV0Gan-gy"
      },
      "outputs": [],
      "source": [
        "import networkx as nx"
      ]
    },
    {
      "cell_type": "markdown",
      "metadata": {
        "id": "d5ELVAo6n-g0"
      },
      "source": [
        "### Undirected network"
      ]
    },
    {
      "cell_type": "markdown",
      "metadata": {
        "id": "9P9vKmPzn-g0"
      },
      "source": [
        "###### # Example 1"
      ]
    },
    {
      "cell_type": "code",
      "execution_count": 18,
      "metadata": {
        "id": "3EK-8W-gn-g0"
      },
      "outputs": [],
      "source": [
        "g = nx.Graph()"
      ]
    },
    {
      "cell_type": "code",
      "execution_count": 19,
      "metadata": {
        "id": "5nYtVRojn-g1"
      },
      "outputs": [],
      "source": [
        "g.add_edge('A', 'B')\n",
        "g.add_edge('B', 'C')"
      ]
    },
    {
      "cell_type": "code",
      "execution_count": 20,
      "metadata": {
        "id": "HBO7Pmrfn-g1",
        "outputId": "30f25718-28c0-49ba-da1b-2816d09af66c",
        "colab": {
          "base_uri": "https://localhost:8080/"
        }
      },
      "outputs": [
        {
          "output_type": "execute_result",
          "data": {
            "text/plain": [
              "NodeView(('A', 'B', 'C'))"
            ]
          },
          "metadata": {},
          "execution_count": 20
        }
      ],
      "source": [
        "g.nodes() \n",
        "#g.edges()"
      ]
    },
    {
      "cell_type": "code",
      "source": [
        "g.edges()"
      ],
      "metadata": {
        "id": "o1aM5aDqp7gW",
        "outputId": "17c8fd55-a81a-4026-bae9-2d540c967b0d",
        "colab": {
          "base_uri": "https://localhost:8080/"
        }
      },
      "execution_count": 21,
      "outputs": [
        {
          "output_type": "execute_result",
          "data": {
            "text/plain": [
              "EdgeView([('A', 'B'), ('B', 'C')])"
            ]
          },
          "metadata": {},
          "execution_count": 21
        }
      ]
    },
    {
      "cell_type": "code",
      "execution_count": 23,
      "metadata": {
        "id": "1n0G3nopn-g2",
        "outputId": "d242d06e-0424-4f82-bbb4-e07cdb38777a",
        "colab": {
          "base_uri": "https://localhost:8080/"
        }
      },
      "outputs": [
        {
          "output_type": "execute_result",
          "data": {
            "text/plain": [
              "AtlasView({'B': {}})"
            ]
          },
          "metadata": {},
          "execution_count": 23
        }
      ],
      "source": [
        "g['A']"
      ]
    },
    {
      "cell_type": "code",
      "source": [
        "g['B']"
      ],
      "metadata": {
        "id": "M3eitum9p__4",
        "outputId": "5c2f62a4-983c-4ca5-def4-134857164190",
        "colab": {
          "base_uri": "https://localhost:8080/"
        }
      },
      "execution_count": 24,
      "outputs": [
        {
          "output_type": "execute_result",
          "data": {
            "text/plain": [
              "AtlasView({'A': {}, 'C': {}})"
            ]
          },
          "metadata": {},
          "execution_count": 24
        }
      ]
    },
    {
      "cell_type": "code",
      "source": [
        "nx.draw(g,with_labels=True)"
      ],
      "metadata": {
        "id": "LFMlQZOhs3xF",
        "outputId": "43b60bf4-bb5e-47c5-e51e-00cce21c271f",
        "colab": {
          "base_uri": "https://localhost:8080/",
          "height": 319
        }
      },
      "execution_count": 25,
      "outputs": [
        {
          "output_type": "display_data",
          "data": {
            "text/plain": [
              "<Figure size 432x288 with 1 Axes>"
            ],
            "image/png": "[encoded data removed]"
          },
          "metadata": {}
        }
      ]
    },
    {
      "cell_type": "markdown",
      "metadata": {
        "id": "YlfFO2y9n-g3"
      },
      "source": [
        "### Directed network"
      ]
    },
    {
      "cell_type": "markdown",
      "metadata": {
        "id": "vksGaffnn-g3"
      },
      "source": [
        "###### # Example 2"
      ]
    },
    {
      "cell_type": "code",
      "execution_count": 8,
      "metadata": {
        "id": "PUU6rkpIn-g4"
      },
      "outputs": [],
      "source": [
        "g = nx.DiGraph()"
      ]
    },
    {
      "cell_type": "code",
      "execution_count": 9,
      "metadata": {
        "id": "Wo7Gu9fOn-g4"
      },
      "outputs": [],
      "source": [
        "g.add_edge('A', 'B')\n",
        "g.add_edge('B', 'C')"
      ]
    },
    {
      "cell_type": "code",
      "execution_count": 12,
      "metadata": {
        "id": "ytYD55fcn-g5",
        "outputId": "b8189a43-1cf5-445d-cd93-99f5be39fa37",
        "colab": {
          "base_uri": "https://localhost:8080/"
        }
      },
      "outputs": [
        {
          "output_type": "execute_result",
          "data": {
            "text/plain": [
              "OutEdgeView([('A', 'B'), ('B', 'C')])"
            ]
          },
          "metadata": {},
          "execution_count": 12
        }
      ],
      "source": [
        "g.nodes()\n",
        "g.edges()"
      ]
    },
    {
      "cell_type": "code",
      "execution_count": 13,
      "metadata": {
        "id": "P_SlS67Fn-g5",
        "outputId": "d57cc1a6-d0ef-4a38-c8cc-82351100f742",
        "colab": {
          "base_uri": "https://localhost:8080/"
        }
      },
      "outputs": [
        {
          "output_type": "execute_result",
          "data": {
            "text/plain": [
              "AtlasView({'B': {}})"
            ]
          },
          "metadata": {},
          "execution_count": 13
        }
      ],
      "source": [
        "g['A']"
      ]
    },
    {
      "cell_type": "markdown",
      "metadata": {
        "id": "4liXkgQxn-g6"
      },
      "source": [
        "### Weighted network"
      ]
    },
    {
      "cell_type": "markdown",
      "metadata": {
        "id": "EG_7CSz0n-g6"
      },
      "source": [
        "###### # Example 3"
      ]
    },
    {
      "cell_type": "code",
      "execution_count": 14,
      "metadata": {
        "id": "X6fuCJo0n-g6"
      },
      "outputs": [],
      "source": [
        "g = nx.Graph()"
      ]
    },
    {
      "cell_type": "code",
      "execution_count": 26,
      "metadata": {
        "id": "erUOTWy4n-g6"
      },
      "outputs": [],
      "source": [
        "g.add_edge('A', 'B', weight=6)\n",
        "g.add_edge('B', 'C', weight=13)"
      ]
    },
    {
      "cell_type": "code",
      "execution_count": 28,
      "metadata": {
        "id": "EGILKgl-n-g7",
        "outputId": "38e70511-422d-4440-cba2-15b712116814",
        "colab": {
          "base_uri": "https://localhost:8080/"
        }
      },
      "outputs": [
        {
          "output_type": "execute_result",
          "data": {
            "text/plain": [
              "EdgeView([('A', 'B'), ('B', 'C')])"
            ]
          },
          "metadata": {},
          "execution_count": 28
        }
      ],
      "source": [
        "g.nodes() \n",
        "g.edges()"
      ]
    },
    {
      "cell_type": "code",
      "execution_count": 29,
      "metadata": {
        "id": "V1rSwWonn-g7",
        "outputId": "de9b4e51-f5b7-46b8-e937-7500bd8db17a",
        "colab": {
          "base_uri": "https://localhost:8080/"
        }
      },
      "outputs": [
        {
          "output_type": "execute_result",
          "data": {
            "text/plain": [
              "AtlasView({'B': {'weight': 6}})"
            ]
          },
          "metadata": {},
          "execution_count": 29
        }
      ],
      "source": [
        "g['A']"
      ]
    },
    {
      "cell_type": "code",
      "source": [
        "nx.draw(g,pos=nx.spring_layout(g),font_color='white',node_shape='s',with_labels=True)\n",
        "nx.draw_networkx_edge_labels(g,pos=nx.spring_layout(g),edge_labels=nx.get_edge_attributes(g,'weight'))"
      ],
      "metadata": {
        "id": "J1OZHD_itbJ5",
        "outputId": "49998063-6cd6-442f-b3d4-c81a9d0163fc",
        "colab": {
          "base_uri": "https://localhost:8080/",
          "height": 355
        }
      },
      "execution_count": 37,
      "outputs": [
        {
          "output_type": "execute_result",
          "data": {
            "text/plain": [
              "{('A', 'B'): Text(0.4508718265119079, -0.23655474410384153, '6'),\n",
              " ('B', 'C'): Text(-0.5000000000000002, 0.2623303585022316, '13')}"
            ]
          },
          "metadata": {},
          "execution_count": 37
        },
        {
          "output_type": "display_data",
          "data": {
            "text/plain": [
              "<Figure size 432x288 with 1 Axes>"
            ],
            "image/png": "[encoded data removed]"
          },
          "metadata": {}
        }
      ]
    },
    {
      "cell_type": "markdown",
      "metadata": {
        "id": "owE3Lr1Xn-g8"
      },
      "source": [
        "### Signed network "
      ]
    },
    {
      "cell_type": "markdown",
      "metadata": {
        "id": "-Z38B2tsn-g8"
      },
      "source": [
        "###### # Example 4"
      ]
    },
    {
      "cell_type": "code",
      "execution_count": 38,
      "metadata": {
        "id": "-HI0OTesn-g8"
      },
      "outputs": [],
      "source": [
        "g = nx.Graph()"
      ]
    },
    {
      "cell_type": "code",
      "execution_count": 39,
      "metadata": {
        "id": "EyqCmTOTn-g8"
      },
      "outputs": [],
      "source": [
        "g.add_edge('A', 'B', sign='+')\n",
        "g.add_edge('B', 'C', sign='-')"
      ]
    },
    {
      "cell_type": "code",
      "execution_count": 44,
      "metadata": {
        "id": "Qv6b1Gljn-g9",
        "outputId": "de0c5aef-5b82-4456-8819-8d18e28ce18e",
        "colab": {
          "base_uri": "https://localhost:8080/"
        }
      },
      "outputs": [
        {
          "output_type": "execute_result",
          "data": {
            "text/plain": [
              "EdgeView([('A', 'B'), ('B', 'C')])"
            ]
          },
          "metadata": {},
          "execution_count": 44
        }
      ],
      "source": [
        "g.nodes() \n",
        "g.edges()"
      ]
    },
    {
      "cell_type": "code",
      "execution_count": 49,
      "metadata": {
        "id": "9OQYzRdqn-g9",
        "outputId": "1abbf101-d94c-44f2-e156-b22ca263b5f1",
        "colab": {
          "base_uri": "https://localhost:8080/"
        }
      },
      "outputs": [
        {
          "output_type": "execute_result",
          "data": {
            "text/plain": [
              "AtlasView({'B': {'sign': '+'}})"
            ]
          },
          "metadata": {},
          "execution_count": 49
        }
      ],
      "source": [
        "g['A']"
      ]
    },
    {
      "cell_type": "code",
      "source": [
        "nx.draw(g,pos=nx.spring_layout(g),font_color='white',node_shape='s',with_labels=True)\n",
        "nx.draw_networkx_edge_labels(g,pos=nx.spring_layout(g),edge_labels=nx.get_edge_attributes(g,'sign'))"
      ],
      "metadata": {
        "id": "b4awnK1yusSp",
        "outputId": "d4bd3468-9c56-49a6-f3b5-32d46c821a6d",
        "colab": {
          "base_uri": "https://localhost:8080/",
          "height": 355
        }
      },
      "execution_count": 52,
      "outputs": [
        {
          "output_type": "execute_result",
          "data": {
            "text/plain": [
              "{('A', 'B'): Text(0.5000000000000001, 0.012614363025858957, '+'),\n",
              " ('B', 'C'): Text(-0.4995645516361794, -0.012603753511296981, '-')}"
            ]
          },
          "metadata": {},
          "execution_count": 52
        },
        {
          "output_type": "display_data",
          "data": {
            "text/plain": [
              "<Figure size 432x288 with 1 Axes>"
            ],
            "image/png": "[encoded data removed]"
          },
          "metadata": {}
        }
      ]
    },
    {
      "cell_type": "markdown",
      "metadata": {
        "id": "33i8fe_Wn-g9"
      },
      "source": [
        "### Multigraph"
      ]
    },
    {
      "cell_type": "markdown",
      "metadata": {
        "id": "2kvqRBDen-g9"
      },
      "source": [
        "###### # Example 5"
      ]
    },
    {
      "cell_type": "code",
      "execution_count": 53,
      "metadata": {
        "id": "qXQaaDObn-g9"
      },
      "outputs": [],
      "source": [
        "g = nx.MultiGraph()"
      ]
    },
    {
      "cell_type": "code",
      "execution_count": 54,
      "metadata": {
        "id": "GoijYyXon-g-",
        "outputId": "76328183-f777-450d-cf62-7cea339e5536",
        "colab": {
          "base_uri": "https://localhost:8080/"
        }
      },
      "outputs": [
        {
          "output_type": "execute_result",
          "data": {
            "text/plain": [
              "1"
            ]
          },
          "metadata": {},
          "execution_count": 54
        }
      ],
      "source": [
        "g.add_edge('A', 'B', relation='friend')\n",
        "g.add_edge('A', 'B', relation='neighbor')"
      ]
    },
    {
      "cell_type": "code",
      "execution_count": 55,
      "metadata": {
        "id": "Fj4sourZn-g-",
        "outputId": "fc4f59ae-0b40-4dcf-eacd-928c5003d25c",
        "colab": {
          "base_uri": "https://localhost:8080/"
        }
      },
      "outputs": [
        {
          "output_type": "execute_result",
          "data": {
            "text/plain": [
              "MultiEdgeDataView([('A', 'B'), ('A', 'B')])"
            ]
          },
          "metadata": {},
          "execution_count": 55
        }
      ],
      "source": [
        "g.nodes() \n",
        "g.edges()"
      ]
    },
    {
      "cell_type": "code",
      "execution_count": 56,
      "metadata": {
        "id": "98whexVXn-g-",
        "outputId": "bf85872e-7ccb-441b-9723-b927f5b17c4f",
        "colab": {
          "base_uri": "https://localhost:8080/"
        }
      },
      "outputs": [
        {
          "output_type": "execute_result",
          "data": {
            "text/plain": [
              "AdjacencyView({'B': {0: {'relation': 'friend'}, 1: {'relation': 'neighbor'}}})"
            ]
          },
          "metadata": {},
          "execution_count": 56
        }
      ],
      "source": [
        "g['A']"
      ]
    },
    {
      "cell_type": "code",
      "source": [
        "nx.draw(g,pos=nx.spring_layout(g),font_color='white',node_shape='s',with_labels=True)\n",
        "nx.draw_networkx_edge_labels(g,pos=nx.spring_layout(g),edge_labels=nx.get_edge_attributes(g,'sign'))"
      ],
      "metadata": {
        "id": "4lIdSRoTvY42",
        "outputId": "680a18af-2730-47b3-ecf3-5e1052c93815",
        "colab": {
          "base_uri": "https://localhost:8080/",
          "height": 337
        }
      },
      "execution_count": 58,
      "outputs": [
        {
          "output_type": "execute_result",
          "data": {
            "text/plain": [
              "{}"
            ]
          },
          "metadata": {},
          "execution_count": 58
        },
        {
          "output_type": "display_data",
          "data": {
            "text/plain": [
              "<Figure size 432x288 with 1 Axes>"
            ],
            "image/png": "[encoded data removed]"
          },
          "metadata": {}
        }
      ]
    },
    {
      "cell_type": "code",
      "source": [
        "nx.draw(g,pos=nx.circular_layout(g),font_color='white',node_shape='s',with_labels=True)\n",
        "nx.draw_networkx_edge_labels(g,pos=nx.circular_layout(g),edge_labels=nx.get_edge_attributes(g,'relation'))\n",
        "#nx.draw_networkx_nodes(g,pos=nx.spring_layout(g),nodelist=nx.get_node_attributes(g,'role'),node_color=\"red\")\n"
      ],
      "metadata": {
        "id": "uKST1uc6zGv9",
        "outputId": "468b5d24-f5c7-4e19-cbe9-3231ddf34bad",
        "colab": {
          "base_uri": "https://localhost:8080/",
          "height": 649
        }
      },
      "execution_count": 63,
      "outputs": [
        {
          "output_type": "error",
          "ename": "ValueError",
          "evalue": "ignored",
          "traceback": [
            "\u001b[0;31m---------------------------------------------------------------------------\u001b[0m",
            "\u001b[0;31mValueError\u001b[0m                                Traceback (most recent call last)",
            "\u001b[0;32m<ipython-input-63-226840b35fd3>\u001b[0m in \u001b[0;36m<module>\u001b[0;34m()\u001b[0m\n\u001b[1;32m      1\u001b[0m \u001b[0mnx\u001b[0m\u001b[0;34m.\u001b[0m\u001b[0mdraw\u001b[0m\u001b[0;34m(\u001b[0m\u001b[0mg\u001b[0m\u001b[0;34m,\u001b[0m\u001b[0mpos\u001b[0m\u001b[0;34m=\u001b[0m\u001b[0mnx\u001b[0m\u001b[0;34m.\u001b[0m\u001b[0mcircular_layout\u001b[0m\u001b[0;34m(\u001b[0m\u001b[0mg\u001b[0m\u001b[0;34m)\u001b[0m\u001b[0;34m,\u001b[0m\u001b[0mfont_color\u001b[0m\u001b[0;34m=\u001b[0m\u001b[0;34m'white'\u001b[0m\u001b[0;34m,\u001b[0m\u001b[0mnode_shape\u001b[0m\u001b[0;34m=\u001b[0m\u001b[0;34m's'\u001b[0m\u001b[0;34m,\u001b[0m\u001b[0mwith_labels\u001b[0m\u001b[0;34m=\u001b[0m\u001b[0;32mTrue\u001b[0m\u001b[0;34m)\u001b[0m\u001b[0;34m\u001b[0m\u001b[0;34m\u001b[0m\u001b[0m\n\u001b[0;32m----> 2\u001b[0;31m \u001b[0mnx\u001b[0m\u001b[0;34m.\u001b[0m\u001b[0mdraw_networkx_edge_labels\u001b[0m\u001b[0;34m(\u001b[0m\u001b[0mg\u001b[0m\u001b[0;34m,\u001b[0m\u001b[0mpos\u001b[0m\u001b[0;34m=\u001b[0m\u001b[0mnx\u001b[0m\u001b[0;34m.\u001b[0m\u001b[0mcircular_layout\u001b[0m\u001b[0;34m(\u001b[0m\u001b[0mg\u001b[0m\u001b[0;34m)\u001b[0m\u001b[0;34m,\u001b[0m\u001b[0medge_labels\u001b[0m\u001b[0;34m=\u001b[0m\u001b[0mnx\u001b[0m\u001b[0;34m.\u001b[0m\u001b[0mget_edge_attributes\u001b[0m\u001b[0;34m(\u001b[0m\u001b[0mg\u001b[0m\u001b[0;34m,\u001b[0m\u001b[0;34m'relation'\u001b[0m\u001b[0;34m)\u001b[0m\u001b[0;34m)\u001b[0m\u001b[0;34m\u001b[0m\u001b[0;34m\u001b[0m\u001b[0m\n\u001b[0m\u001b[1;32m      3\u001b[0m \u001b[0;31m#nx.draw_networkx_nodes(g,pos=nx.spring_layout(g),nodelist=nx.get_node_attributes(g,'role'),node_color=\"red\")\u001b[0m\u001b[0;34m\u001b[0m\u001b[0;34m\u001b[0m\u001b[0;34m\u001b[0m\u001b[0m\n",
            "\u001b[0;32m/usr/local/lib/python3.7/dist-packages/networkx/drawing/nx_pylab.py\u001b[0m in \u001b[0;36mdraw_networkx_edge_labels\u001b[0;34m(G, pos, edge_labels, label_pos, font_size, font_color, font_family, font_weight, alpha, bbox, horizontalalignment, verticalalignment, ax, rotate, clip_on)\u001b[0m\n\u001b[1;32m   1104\u001b[0m         \u001b[0mlabels\u001b[0m \u001b[0;34m=\u001b[0m \u001b[0medge_labels\u001b[0m\u001b[0;34m\u001b[0m\u001b[0;34m\u001b[0m\u001b[0m\n\u001b[1;32m   1105\u001b[0m     \u001b[0mtext_items\u001b[0m \u001b[0;34m=\u001b[0m \u001b[0;34m{\u001b[0m\u001b[0;34m}\u001b[0m\u001b[0;34m\u001b[0m\u001b[0;34m\u001b[0m\u001b[0m\n\u001b[0;32m-> 1106\u001b[0;31m     \u001b[0;32mfor\u001b[0m \u001b[0;34m(\u001b[0m\u001b[0mn1\u001b[0m\u001b[0;34m,\u001b[0m \u001b[0mn2\u001b[0m\u001b[0;34m)\u001b[0m\u001b[0;34m,\u001b[0m \u001b[0mlabel\u001b[0m \u001b[0;32min\u001b[0m \u001b[0mlabels\u001b[0m\u001b[0;34m.\u001b[0m\u001b[0mitems\u001b[0m\u001b[0;34m(\u001b[0m\u001b[0;34m)\u001b[0m\u001b[0;34m:\u001b[0m\u001b[0;34m\u001b[0m\u001b[0;34m\u001b[0m\u001b[0m\n\u001b[0m\u001b[1;32m   1107\u001b[0m         \u001b[0;34m(\u001b[0m\u001b[0mx1\u001b[0m\u001b[0;34m,\u001b[0m \u001b[0my1\u001b[0m\u001b[0;34m)\u001b[0m \u001b[0;34m=\u001b[0m \u001b[0mpos\u001b[0m\u001b[0;34m[\u001b[0m\u001b[0mn1\u001b[0m\u001b[0;34m]\u001b[0m\u001b[0;34m\u001b[0m\u001b[0;34m\u001b[0m\u001b[0m\n\u001b[1;32m   1108\u001b[0m         \u001b[0;34m(\u001b[0m\u001b[0mx2\u001b[0m\u001b[0;34m,\u001b[0m \u001b[0my2\u001b[0m\u001b[0;34m)\u001b[0m \u001b[0;34m=\u001b[0m \u001b[0mpos\u001b[0m\u001b[0;34m[\u001b[0m\u001b[0mn2\u001b[0m\u001b[0;34m]\u001b[0m\u001b[0;34m\u001b[0m\u001b[0;34m\u001b[0m\u001b[0m\n",
            "\u001b[0;31mValueError\u001b[0m: too many values to unpack (expected 2)"
          ]
        },
        {
          "output_type": "display_data",
          "data": {
            "text/plain": [
              "<Figure size 432x288 with 1 Axes>"
            ],
            "image/png": "[encoded data removed]"
          },
          "metadata": {}
        }
      ]
    },
    {
      "cell_type": "markdown",
      "metadata": {
        "id": "GiiRseb7n-g-"
      },
      "source": [
        "### Summary"
      ]
    },
    {
      "cell_type": "markdown",
      "metadata": {
        "id": "D7MoC_7kn-g-"
      },
      "source": [
        "![summary](https://github.com/arifjamal89/Applied-Social-Network-Analysis/blob/master/Module%201/media/graphs.png?raw=1)"
      ]
    },
    {
      "cell_type": "markdown",
      "metadata": {
        "id": "8EWVVLPqn-g_"
      },
      "source": [
        "###### # Example 6"
      ]
    },
    {
      "cell_type": "code",
      "execution_count": null,
      "metadata": {
        "id": "25b_TWPMn-g_"
      },
      "outputs": [],
      "source": [
        "g = nx.Graph()"
      ]
    },
    {
      "cell_type": "code",
      "execution_count": null,
      "metadata": {
        "id": "luPIfjlin-g_"
      },
      "outputs": [],
      "source": [
        "g.add_edge('A', 'B', weight=6, relation='family', sign='+')\n",
        "g.add_edge('B', 'C', weight=13, relation='friend', sign='-')"
      ]
    },
    {
      "cell_type": "code",
      "execution_count": null,
      "metadata": {
        "id": "yeNRFjHSn-g_",
        "outputId": "40f291fa-1d9c-4298-bae1-8aab7c04a161"
      },
      "outputs": [
        {
          "data": {
            "text/plain": [
              "EdgeView([('A', 'B'), ('B', 'C')])"
            ]
          },
          "execution_count": 24,
          "metadata": {},
          "output_type": "execute_result"
        }
      ],
      "source": [
        "g.edges()"
      ]
    },
    {
      "cell_type": "code",
      "execution_count": null,
      "metadata": {
        "id": "Yt6L3-kgn-g_",
        "outputId": "9637d63f-aff6-4af3-c967-7f5486446d6d"
      },
      "outputs": [
        {
          "data": {
            "text/plain": [
              "EdgeDataView([('A', 'B', {'weight': 6, 'relation': 'family', 'sign': '+'}), ('B', 'C', {'weight': 13, 'relation': 'friend', 'sign': '-'})])"
            ]
          },
          "execution_count": 25,
          "metadata": {},
          "output_type": "execute_result"
        }
      ],
      "source": [
        "g.edges(data=True)"
      ]
    },
    {
      "cell_type": "code",
      "execution_count": null,
      "metadata": {
        "id": "q55QigoZn-g_",
        "outputId": "40df8240-e591-432e-c197-e77e2f92b3bd"
      },
      "outputs": [
        {
          "data": {
            "text/plain": [
              "EdgeDataView([('A', 'B', 'family'), ('B', 'C', 'friend')])"
            ]
          },
          "execution_count": 26,
          "metadata": {},
          "output_type": "execute_result"
        }
      ],
      "source": [
        "g.edges(data='relation')"
      ]
    },
    {
      "cell_type": "code",
      "execution_count": null,
      "metadata": {
        "id": "WoMy-eM9n-hA",
        "outputId": "50c43a80-8252-4d9a-8577-e2b0827c4ab2"
      },
      "outputs": [
        {
          "data": {
            "text/plain": [
              "EdgeDataView([('A', 'B', 6), ('B', 'C', 13)])"
            ]
          },
          "execution_count": 27,
          "metadata": {},
          "output_type": "execute_result"
        }
      ],
      "source": [
        "g.edges(data='weight')"
      ]
    },
    {
      "cell_type": "code",
      "execution_count": null,
      "metadata": {
        "id": "RNACS9fxn-hA",
        "outputId": "f9ed3c93-f077-432b-9291-e8d04b09f315"
      },
      "outputs": [
        {
          "data": {
            "text/plain": [
              "EdgeDataView([('A', 'B', '+'), ('B', 'C', '-')])"
            ]
          },
          "execution_count": 28,
          "metadata": {},
          "output_type": "execute_result"
        }
      ],
      "source": [
        "g.edges(data='sign')"
      ]
    },
    {
      "cell_type": "code",
      "execution_count": null,
      "metadata": {
        "id": "x7r9npmin-hA",
        "outputId": "f6c9fa1c-acd2-4f4b-f75e-a2a21dc41f09"
      },
      "outputs": [
        {
          "data": {
            "text/plain": [
              "AtlasView({'B': {'weight': 6, 'relation': 'family', 'sign': '+'}})"
            ]
          },
          "execution_count": 29,
          "metadata": {},
          "output_type": "execute_result"
        }
      ],
      "source": [
        "g['A']"
      ]
    },
    {
      "cell_type": "code",
      "execution_count": null,
      "metadata": {
        "id": "332Do5Wnn-hA",
        "outputId": "3f88f774-4eee-45bd-dfd3-32e5daddcca1"
      },
      "outputs": [
        {
          "data": {
            "text/plain": [
              "{'weight': 6, 'relation': 'family', 'sign': '+'}"
            ]
          },
          "execution_count": 30,
          "metadata": {},
          "output_type": "execute_result"
        }
      ],
      "source": [
        "g['A']['B']"
      ]
    },
    {
      "cell_type": "code",
      "execution_count": null,
      "metadata": {
        "id": "051FKiRun-hA",
        "outputId": "672020d5-e241-4dbd-d1f9-1f36f66f0bec"
      },
      "outputs": [
        {
          "data": {
            "text/plain": [
              "'family'"
            ]
          },
          "execution_count": 31,
          "metadata": {},
          "output_type": "execute_result"
        }
      ],
      "source": [
        "g['A']['B']['relation']"
      ]
    },
    {
      "cell_type": "code",
      "execution_count": null,
      "metadata": {
        "id": "7w5y4f_Jn-hA",
        "outputId": "e6ddead3-d483-43ec-8af0-b4e673cbeb1c"
      },
      "outputs": [
        {
          "name": "stdout",
          "output_type": "stream",
          "text": [
            "OK: This is an UNdirected graph\n"
          ]
        }
      ],
      "source": [
        "if (g['B']['A'] == g['A']['B']): print('OK: This is an UNdirected graph')"
      ]
    },
    {
      "cell_type": "markdown",
      "metadata": {
        "id": "Ar3Wqvp1n-hB"
      },
      "source": [
        "###### # Example 7"
      ]
    },
    {
      "cell_type": "code",
      "execution_count": null,
      "metadata": {
        "id": "ge_4wjdCn-hB"
      },
      "outputs": [],
      "source": [
        "g = nx.DiGraph()"
      ]
    },
    {
      "cell_type": "code",
      "execution_count": null,
      "metadata": {
        "id": "GaX0GbiKn-hB"
      },
      "outputs": [],
      "source": [
        "g.add_edge('A', 'B', weight=6, relation='family', sign='+')\n",
        "g.add_edge('B', 'C', weight=13, relation='friend', sign='-')"
      ]
    },
    {
      "cell_type": "code",
      "execution_count": null,
      "metadata": {
        "id": "PlejJM0An-hB",
        "outputId": "753aec05-69e3-46ad-8533-335fe519e2d5"
      },
      "outputs": [
        {
          "data": {
            "text/plain": [
              "{'weight': 6, 'relation': 'family', 'sign': '+'}"
            ]
          },
          "execution_count": 35,
          "metadata": {},
          "output_type": "execute_result"
        }
      ],
      "source": [
        "g['A']['B']"
      ]
    },
    {
      "cell_type": "code",
      "execution_count": null,
      "metadata": {
        "id": "AzWqAqAPn-hB",
        "outputId": "88d6c8a0-e481-4fbb-8d2f-bfb919f9f976"
      },
      "outputs": [
        {
          "name": "stdout",
          "output_type": "stream",
          "text": [
            "ERROR: This is a DIRECTED GRAPH!\n"
          ]
        }
      ],
      "source": [
        "try:\n",
        "    g['B']['A'] == g['A']['B']\n",
        "except KeyError:\n",
        "    print('ERROR: This is a DIRECTED GRAPH!')"
      ]
    },
    {
      "cell_type": "markdown",
      "metadata": {
        "id": "c2k_BDLun-hB"
      },
      "source": [
        "###### # Example 8"
      ]
    },
    {
      "cell_type": "code",
      "execution_count": null,
      "metadata": {
        "id": "p-sNIMfRn-hC"
      },
      "outputs": [],
      "source": [
        "g = nx.MultiDiGraph()"
      ]
    },
    {
      "cell_type": "code",
      "execution_count": null,
      "metadata": {
        "id": "TE0uMBgpn-hC",
        "outputId": "ae4e81b6-dda4-49cd-d48a-ef8caec73fe3"
      },
      "outputs": [
        {
          "data": {
            "text/plain": [
              "0"
            ]
          },
          "execution_count": 38,
          "metadata": {},
          "output_type": "execute_result"
        }
      ],
      "source": [
        "g.add_edge('A', 'B', weight=6, relation='family', sign='+')\n",
        "g.add_edge('B', 'C', weight=13, relation='friend', sign='-')"
      ]
    },
    {
      "cell_type": "code",
      "execution_count": null,
      "metadata": {
        "id": "mw7DmN8Bn-hC",
        "outputId": "3bb642c7-305c-4ba9-9104-8c05e19bf712"
      },
      "outputs": [
        {
          "data": {
            "text/plain": [
              "AtlasView({0: {'weight': 6, 'relation': 'family', 'sign': '+'}})"
            ]
          },
          "execution_count": 39,
          "metadata": {},
          "output_type": "execute_result"
        }
      ],
      "source": [
        "g['A']['B']"
      ]
    },
    {
      "cell_type": "code",
      "execution_count": null,
      "metadata": {
        "id": "RMx3-MDEn-hC",
        "outputId": "65bdf20d-3af2-49a8-9dc8-7c8d6a038f85"
      },
      "outputs": [
        {
          "data": {
            "text/plain": [
              "{'weight': 6, 'relation': 'family', 'sign': '+'}"
            ]
          },
          "execution_count": 40,
          "metadata": {},
          "output_type": "execute_result"
        }
      ],
      "source": [
        "g['A']['B'][0]"
      ]
    },
    {
      "cell_type": "code",
      "execution_count": null,
      "metadata": {
        "id": "-ZsGlkkEn-hC",
        "outputId": "9f6a39f4-44e5-4255-9d57-73220bc6cea6"
      },
      "outputs": [
        {
          "data": {
            "text/plain": [
              "'family'"
            ]
          },
          "execution_count": 41,
          "metadata": {},
          "output_type": "execute_result"
        }
      ],
      "source": [
        "g['A']['B'][0]['relation']"
      ]
    },
    {
      "cell_type": "code",
      "execution_count": null,
      "metadata": {
        "id": "Ng2Yqexjn-hC",
        "outputId": "1ec26cfc-2b8c-4f2b-c10f-659b2c03fff6"
      },
      "outputs": [
        {
          "name": "stdout",
          "output_type": "stream",
          "text": [
            "ERROR: This is a DIRECTED GRAPH!\n"
          ]
        }
      ],
      "source": [
        "try:\n",
        "    g['B']['A']\n",
        "except KeyError:\n",
        "    print('ERROR: This is a DIRECTED GRAPH!')"
      ]
    },
    {
      "cell_type": "code",
      "execution_count": null,
      "metadata": {
        "id": "hVzZ4RcHn-hD",
        "outputId": "cfd2a3f3-8884-4c50-8ab4-a6c7801af9a1"
      },
      "outputs": [
        {
          "data": {
            "text/plain": [
              "NodeView(('A', 'B', 'C'))"
            ]
          },
          "execution_count": 43,
          "metadata": {},
          "output_type": "execute_result"
        }
      ],
      "source": [
        "g.nodes()"
      ]
    },
    {
      "cell_type": "code",
      "execution_count": null,
      "metadata": {
        "id": "Lpg_c7wln-hD",
        "outputId": "f10ab86f-a37f-43af-89ef-80ab2ebf040d"
      },
      "outputs": [
        {
          "data": {
            "text/plain": [
              "OutMultiEdgeDataView([('A', 'B', {'weight': 6, 'relation': 'family', 'sign': '+'}), ('B', 'C', {'weight': 13, 'relation': 'friend', 'sign': '-'})])"
            ]
          },
          "execution_count": 44,
          "metadata": {},
          "output_type": "execute_result"
        }
      ],
      "source": [
        "g.edges(data=True)"
      ]
    },
    {
      "cell_type": "markdown",
      "metadata": {
        "id": "02CRH0bhn-hD"
      },
      "source": [
        "### Bipartite Graph"
      ]
    },
    {
      "cell_type": "code",
      "execution_count": 97,
      "metadata": {
        "id": "pIGFQPran-hD"
      },
      "outputs": [],
      "source": [
        "from networkx.algorithms import bipartite"
      ]
    },
    {
      "cell_type": "markdown",
      "metadata": {
        "id": "gKPYvPpin-hD"
      },
      "source": [
        "###### # Example 9"
      ]
    },
    {
      "cell_type": "code",
      "execution_count": 89,
      "metadata": {
        "id": "qbjr4NCTn-hD"
      },
      "outputs": [],
      "source": [
        "b = nx.Graph()"
      ]
    },
    {
      "cell_type": "code",
      "execution_count": 90,
      "metadata": {
        "id": "jvddlyctn-hD"
      },
      "outputs": [],
      "source": [
        "left = 'A B C D E'.split()\n",
        "right = (1, 2, 3, 4)"
      ]
    },
    {
      "cell_type": "code",
      "execution_count": 91,
      "metadata": {
        "id": "UWmsZS_-n-hE"
      },
      "outputs": [],
      "source": [
        "b.add_nodes_from(left, bipartite=0)"
      ]
    },
    {
      "cell_type": "code",
      "execution_count": 92,
      "metadata": {
        "id": "b0NwjRXtn-hE"
      },
      "outputs": [],
      "source": [
        "b.add_nodes_from(right, bipartite=1)"
      ]
    },
    {
      "cell_type": "code",
      "execution_count": 93,
      "metadata": {
        "id": "i7S7jGSGn-hE",
        "outputId": "4d445b7d-5a06-43c3-fb7a-fa87bfd02a61",
        "colab": {
          "base_uri": "https://localhost:8080/"
        }
      },
      "outputs": [
        {
          "output_type": "execute_result",
          "data": {
            "text/plain": [
              "NodeView(('A', 'B', 'C', 'D', 'E', 1, 2, 3, 4))"
            ]
          },
          "metadata": {},
          "execution_count": 93
        }
      ],
      "source": [
        "b.nodes()"
      ]
    },
    {
      "cell_type": "code",
      "execution_count": 94,
      "metadata": {
        "id": "BuMgY90gn-hE"
      },
      "outputs": [],
      "source": [
        "b.add_edges_from([('A', 1), ('B', 1), ('C', 1), ('C', 3), ('D', 2), ('E', 3), ('E', 4)])"
      ]
    },
    {
      "cell_type": "code",
      "execution_count": 95,
      "metadata": {
        "id": "X4C6ptsxn-hE",
        "outputId": "0c648b22-ccfb-4aa5-c10f-9b6de0512035",
        "colab": {
          "base_uri": "https://localhost:8080/"
        }
      },
      "outputs": [
        {
          "output_type": "execute_result",
          "data": {
            "text/plain": [
              "EdgeView([('A', 1), ('B', 1), ('C', 1), ('C', 3), ('D', 2), ('E', 3), ('E', 4)])"
            ]
          },
          "metadata": {},
          "execution_count": 95
        }
      ],
      "source": [
        "b.edges()"
      ]
    },
    {
      "cell_type": "markdown",
      "metadata": {
        "id": "UpOXpNpNn-hE"
      },
      "source": [
        "- Checking for bipartite graph:"
      ]
    },
    {
      "cell_type": "code",
      "execution_count": 98,
      "metadata": {
        "id": "6ngdwcyNn-hF",
        "outputId": "94c8112a-e73e-4db2-a068-0d3f862eb624",
        "colab": {
          "base_uri": "https://localhost:8080/"
        }
      },
      "outputs": [
        {
          "output_type": "execute_result",
          "data": {
            "text/plain": [
              "True"
            ]
          },
          "metadata": {},
          "execution_count": 98
        }
      ],
      "source": [
        "bipartite.is_bipartite(b)"
      ]
    },
    {
      "cell_type": "code",
      "execution_count": 99,
      "metadata": {
        "id": "NJxERhTyn-hF"
      },
      "outputs": [],
      "source": [
        "b.add_edge('A', 'B')"
      ]
    },
    {
      "cell_type": "code",
      "execution_count": 100,
      "metadata": {
        "id": "3ILcBOmQn-hF",
        "outputId": "1d1c2b83-9b0a-4e17-9de1-12ed21939d83",
        "colab": {
          "base_uri": "https://localhost:8080/"
        }
      },
      "outputs": [
        {
          "output_type": "execute_result",
          "data": {
            "text/plain": [
              "False"
            ]
          },
          "metadata": {},
          "execution_count": 100
        }
      ],
      "source": [
        "bipartite.is_bipartite(b)"
      ]
    },
    {
      "cell_type": "code",
      "execution_count": 101,
      "metadata": {
        "id": "AIJ3ikcwn-hF"
      },
      "outputs": [],
      "source": [
        "b.remove_edge('A', 'B')"
      ]
    },
    {
      "cell_type": "code",
      "execution_count": 102,
      "metadata": {
        "id": "Xzg2wwMwn-hF",
        "outputId": "e1be7711-ea32-474f-c2d5-927872be5fb0",
        "colab": {
          "base_uri": "https://localhost:8080/"
        }
      },
      "outputs": [
        {
          "output_type": "execute_result",
          "data": {
            "text/plain": [
              "True"
            ]
          },
          "metadata": {},
          "execution_count": 102
        }
      ],
      "source": [
        "bipartite.is_bipartite(b)"
      ]
    },
    {
      "cell_type": "markdown",
      "metadata": {
        "id": "pfmx6Bkvn-hG"
      },
      "source": [
        "- Check if set is one bipartition:"
      ]
    },
    {
      "cell_type": "code",
      "execution_count": 103,
      "metadata": {
        "id": "lRunkiMhn-hG",
        "outputId": "77cd5a09-0c14-437b-9980-7f8a5bce48dc",
        "colab": {
          "base_uri": "https://localhost:8080/"
        }
      },
      "outputs": [
        {
          "output_type": "execute_result",
          "data": {
            "text/plain": [
              "True"
            ]
          },
          "metadata": {},
          "execution_count": 103
        }
      ],
      "source": [
        "bipartite.is_bipartite_node_set(b, left)"
      ]
    },
    {
      "cell_type": "code",
      "execution_count": 104,
      "metadata": {
        "id": "tKYpI0xtn-hG",
        "outputId": "6d11de5a-8c45-4fbf-9d61-430401a2c4dc",
        "colab": {
          "base_uri": "https://localhost:8080/"
        }
      },
      "outputs": [
        {
          "output_type": "execute_result",
          "data": {
            "text/plain": [
              "True"
            ]
          },
          "metadata": {},
          "execution_count": 104
        }
      ],
      "source": [
        "bipartite.is_bipartite_node_set(b, right)"
      ]
    },
    {
      "cell_type": "code",
      "execution_count": 105,
      "metadata": {
        "id": "CM4bshl8n-hG",
        "outputId": "6a5e7131-4dbc-444d-abc0-a5f5068d1666",
        "colab": {
          "base_uri": "https://localhost:8080/"
        }
      },
      "outputs": [
        {
          "output_type": "execute_result",
          "data": {
            "text/plain": [
              "False"
            ]
          },
          "metadata": {},
          "execution_count": 105
        }
      ],
      "source": [
        "bipartite.is_bipartite_node_set(b, (1, 2, 3))"
      ]
    },
    {
      "cell_type": "code",
      "execution_count": 106,
      "metadata": {
        "scrolled": true,
        "id": "2GnTn29Cn-hG",
        "outputId": "2d0e2703-aece-4462-aed8-1f6e6c30b0f3",
        "colab": {
          "base_uri": "https://localhost:8080/",
          "height": 312
        }
      },
      "outputs": [
        {
          "output_type": "error",
          "ename": "AmbiguousSolution",
          "evalue": "ignored",
          "traceback": [
            "\u001b[0;31m---------------------------------------------------------------------------\u001b[0m",
            "\u001b[0;31mAmbiguousSolution\u001b[0m                         Traceback (most recent call last)",
            "\u001b[0;32m<ipython-input-106-5c89d32c63f4>\u001b[0m in \u001b[0;36m<module>\u001b[0;34m()\u001b[0m\n\u001b[1;32m      1\u001b[0m \u001b[0;31m# FIXME\u001b[0m\u001b[0;34m\u001b[0m\u001b[0;34m\u001b[0m\u001b[0;34m\u001b[0m\u001b[0m\n\u001b[0;32m----> 2\u001b[0;31m \u001b[0mbipartite\u001b[0m\u001b[0;34m.\u001b[0m\u001b[0msets\u001b[0m\u001b[0;34m(\u001b[0m\u001b[0mb\u001b[0m\u001b[0;34m)\u001b[0m\u001b[0;34m\u001b[0m\u001b[0;34m\u001b[0m\u001b[0m\n\u001b[0m",
            "\u001b[0;32m/usr/local/lib/python3.7/dist-packages/networkx/algorithms/bipartite/basic.py\u001b[0m in \u001b[0;36msets\u001b[0;34m(G, top_nodes)\u001b[0m\n\u001b[1;32m    199\u001b[0m         \u001b[0;32mif\u001b[0m \u001b[0;32mnot\u001b[0m \u001b[0mis_connected\u001b[0m\u001b[0;34m(\u001b[0m\u001b[0mG\u001b[0m\u001b[0;34m)\u001b[0m\u001b[0;34m:\u001b[0m\u001b[0;34m\u001b[0m\u001b[0;34m\u001b[0m\u001b[0m\n\u001b[1;32m    200\u001b[0m             \u001b[0mmsg\u001b[0m \u001b[0;34m=\u001b[0m \u001b[0;34m\"Disconnected graph: Ambiguous solution for bipartite sets.\"\u001b[0m\u001b[0;34m\u001b[0m\u001b[0;34m\u001b[0m\u001b[0m\n\u001b[0;32m--> 201\u001b[0;31m             \u001b[0;32mraise\u001b[0m \u001b[0mnx\u001b[0m\u001b[0;34m.\u001b[0m\u001b[0mAmbiguousSolution\u001b[0m\u001b[0;34m(\u001b[0m\u001b[0mmsg\u001b[0m\u001b[0;34m)\u001b[0m\u001b[0;34m\u001b[0m\u001b[0;34m\u001b[0m\u001b[0m\n\u001b[0m\u001b[1;32m    202\u001b[0m         \u001b[0mc\u001b[0m \u001b[0;34m=\u001b[0m \u001b[0mcolor\u001b[0m\u001b[0;34m(\u001b[0m\u001b[0mG\u001b[0m\u001b[0;34m)\u001b[0m\u001b[0;34m\u001b[0m\u001b[0;34m\u001b[0m\u001b[0m\n\u001b[1;32m    203\u001b[0m         \u001b[0mX\u001b[0m \u001b[0;34m=\u001b[0m \u001b[0;34m{\u001b[0m\u001b[0mn\u001b[0m \u001b[0;32mfor\u001b[0m \u001b[0mn\u001b[0m\u001b[0;34m,\u001b[0m \u001b[0mis_top\u001b[0m \u001b[0;32min\u001b[0m \u001b[0mc\u001b[0m\u001b[0;34m.\u001b[0m\u001b[0mitems\u001b[0m\u001b[0;34m(\u001b[0m\u001b[0;34m)\u001b[0m \u001b[0;32mif\u001b[0m \u001b[0mis_top\u001b[0m\u001b[0;34m}\u001b[0m\u001b[0;34m\u001b[0m\u001b[0;34m\u001b[0m\u001b[0m\n",
            "\u001b[0;31mAmbiguousSolution\u001b[0m: Disconnected graph: Ambiguous solution for bipartite sets."
          ]
        }
      ],
      "source": [
        "# FIXME\n",
        "bipartite.sets(b)"
      ]
    },
    {
      "cell_type": "code",
      "execution_count": 107,
      "metadata": {
        "id": "Te2km__zn-hK",
        "outputId": "65b1e48e-c887-4066-9a76-893addf09513",
        "colab": {
          "base_uri": "https://localhost:8080/",
          "height": 248
        }
      },
      "outputs": [
        {
          "output_type": "display_data",
          "data": {
            "text/plain": [
              "<Figure size 432x288 with 1 Axes>"
            ],
            "image/png": "[encoded data removed]"
          },
          "metadata": {}
        }
      ],
      "source": [
        "import matplotlib.pyplot as plt\n",
        "%matplotlib inline\n",
        "nx.draw_networkx(b)"
      ]
    },
    {
      "cell_type": "markdown",
      "metadata": {
        "id": "ZmQGHwi5n-hL"
      },
      "source": [
        "### Projected graphs"
      ]
    },
    {
      "cell_type": "markdown",
      "metadata": {
        "id": "stJRL-7-n-hL"
      },
      "source": [
        "###### # Example 10"
      ]
    },
    {
      "cell_type": "code",
      "execution_count": null,
      "metadata": {
        "id": "G4nbF8Qon-hL"
      },
      "outputs": [],
      "source": [
        "# TODO\n",
        "# bipartite.projected_graph(B,X)"
      ]
    },
    {
      "cell_type": "markdown",
      "metadata": {
        "id": "Un86onXan-hL"
      },
      "source": [
        "###### # Example 11"
      ]
    },
    {
      "cell_type": "code",
      "execution_count": null,
      "metadata": {
        "id": "THpd3Y86n-hM"
      },
      "outputs": [],
      "source": [
        "# TODO\n",
        "# bipartite.wighted_projected_graph(B,X)"
      ]
    },
    {
      "cell_type": "markdown",
      "metadata": {
        "id": "jDZhp8vWn-hM"
      },
      "source": [
        "EOF"
      ]
    }
  ],
  "metadata": {
    "kernelspec": {
      "display_name": "Python 3",
      "language": "python",
      "name": "python3"
    },
    "language_info": {
      "codemirror_mode": {
        "name": "ipython",
        "version": 3
      },
      "file_extension": ".py",
      "mimetype": "text/x-python",
      "name": "python",
      "nbconvert_exporter": "python",
      "pygments_lexer": "ipython3",
      "version": "3.6.9"
    },
    "colab": {
      "name": "notes_module_1.ipynb",
      "provenance": []
    }
  },
  "nbformat": 4,
  "nbformat_minor": 0
}